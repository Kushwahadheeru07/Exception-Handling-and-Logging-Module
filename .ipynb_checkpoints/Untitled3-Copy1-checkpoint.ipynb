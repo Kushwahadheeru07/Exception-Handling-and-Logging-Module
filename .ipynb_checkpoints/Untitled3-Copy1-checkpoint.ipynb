{
 "cells": [
  {
   "cell_type": "code",
   "execution_count": null,
   "id": "c13f2796",
   "metadata": {},
   "outputs": [],
   "source": [
    "from turtle import *\n",
    "  \n",
    "bgcolor('black')\n",
    "speed(0)\n",
    "hideturtle()\n",
    "for i in range(120):\n",
    "   color('red')\n",
    "   circle(i)\n",
    "   color('orange')\n",
    "   circle(i*0.8)\n",
    "   right(3)\n",
    "   forward(3)\n",
    "done()\n"
   ]
  },
  {
   "cell_type": "code",
   "execution_count": null,
   "id": "28e3b076",
   "metadata": {},
   "outputs": [],
   "source": []
  },
  {
   "cell_type": "code",
   "execution_count": null,
   "id": "fdbc90e5",
   "metadata": {},
   "outputs": [],
   "source": []
  }
 ],
 "metadata": {
  "kernelspec": {
   "display_name": "Python 3 (ipykernel)",
   "language": "python",
   "name": "python3"
  },
  "language_info": {
   "codemirror_mode": {
    "name": "ipython",
    "version": 3
   },
   "file_extension": ".py",
   "mimetype": "text/x-python",
   "name": "python",
   "nbconvert_exporter": "python",
   "pygments_lexer": "ipython3",
   "version": "3.9.12"
  }
 },
 "nbformat": 4,
 "nbformat_minor": 5
}
