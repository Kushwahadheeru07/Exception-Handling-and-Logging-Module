{
 "cells": [
  {
   "cell_type": "raw",
   "id": "2a497848",
   "metadata": {},
   "source": []
  },
  {
   "cell_type": "code",
   "execution_count": 15,
   "id": "ea2a1f72",
   "metadata": {},
   "outputs": [
    {
     "name": "stdout",
     "output_type": "stream",
     "text": [
      "{'strawberry', 'pineapple', 'banana', 'apple', 'cherry'}\n"
     ]
    }
   ],
   "source": [
    "dheeru = {\"apple\",\"banana\"}\n",
    "sanyog = {\"mango\",\"cherry\"}\n",
    "priyam = {\"pineapple\",\"guava\"}\n",
    "aditya = {\"strawberry\",\"grapes\"}\n",
    "dheeru.update(sanyog)"
   ]
  },
  {
   "cell_type": "code",
   "execution_count": null,
   "id": "9f2d33c3",
   "metadata": {},
   "outputs": [],
   "source": []
  },
  {
   "cell_type": "code",
   "execution_count": null,
   "id": "4e8a33a4",
   "metadata": {},
   "outputs": [],
   "source": []
  },
  {
   "cell_type": "code",
   "execution_count": null,
   "id": "d72a7e0b",
   "metadata": {},
   "outputs": [],
   "source": []
  }
 ],
 "metadata": {
  "kernelspec": {
   "display_name": "Python 3 (ipykernel)",
   "language": "python",
   "name": "python3"
  },
  "language_info": {
   "codemirror_mode": {
    "name": "ipython",
    "version": 3
   },
   "file_extension": ".py",
   "mimetype": "text/x-python",
   "name": "python",
   "nbconvert_exporter": "python",
   "pygments_lexer": "ipython3",
   "version": "3.9.12"
  }
 },
 "nbformat": 4,
 "nbformat_minor": 5
}
